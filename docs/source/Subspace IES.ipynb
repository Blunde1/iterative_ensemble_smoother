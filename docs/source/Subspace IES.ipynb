{
 "cells": [
  {
   "cell_type": "markdown",
   "id": "2102b5dd",
   "metadata": {},
   "source": [
    "# Implementation and verification of Subspace IES\n",
    "\n",
    "Test SIES for $p<n$ and inspect if Eq. 28 in Evensen 2019 is problematic.\n",
    "\n",
    "We employ the deterministic non-linear forward model $y=g(x)=x_1+\\beta x_2^3$ from example 5.1 made two dimensional.\n",
    "We set ensemble size $n>2$ so to force Eq. 28 as $g$ is non-linear."
   ]
  },
  {
   "cell_type": "code",
   "execution_count": 51,
   "id": "e060fe85",
   "metadata": {},
   "outputs": [],
   "source": [
    "import numpy as np\n",
    "import pandas as pd\n",
    "\n",
    "np.set_printoptions(suppress=True)\n",
    "\n",
    "import matplotlib.pyplot as plt\n",
    "plt.rcParams[\"figure.figsize\"] = (10, 4)\n",
    "plt.rcParams.update({'font.size': 14})\n",
    "develop = False\n",
    "plt.rcParams['text.usetex'] = True\n",
    "\n",
    "import itertools\n",
    "\n",
    "from typing import Callable\n",
    "import numpy.typing as npt"
   ]
  },
  {
   "cell_type": "markdown",
   "id": "efb00e1a",
   "metadata": {},
   "source": [
    "# Implementation\n",
    "\n",
    "We implement **Algorithm 1** from Evensen 2019, but with the option that Eq. 28 can be employed to project $\\bf{Y}$ in line 4 of the pseudo-algorithm, if $g$ is linear and parameter size is smaller than ensemble size."
   ]
  },
  {
   "cell_type": "code",
   "execution_count": 150,
   "id": "260b3b16",
   "metadata": {},
   "outputs": [],
   "source": [
    "def subspace_ies(\n",
    "    X: npt.NDArray[np.double], \n",
    "    D: npt.NDArray[np.double],\n",
    "    g: Callable[[npt.NDArray[np.double]], float],\n",
    "    linear: bool = False,\n",
    "    step_size: float = 0.3, \n",
    "    iterations: int = 2\n",
    ") -> npt.NDArray[np.double]:\n",
    "    \"\"\"Updates ensemble of parameters according to the Subspace \n",
    "    Iterative Ensemble Smoother (Evensen 2019).\n",
    "    \n",
    "    :param X: sample from prior parameter distribution, i.e. ensemble.\n",
    "    :param D: observations perturbed with noise having observation uncertainty.\n",
    "    :param g: the forward model g:Re**parameter_size -> R\n",
    "    :param linear: if g is a linear forward model.\n",
    "    :param step_size: the step size of an ensemble-weight update at each iteration.\n",
    "    :param iterations: number of iterations in the udpate algorithm.\n",
    "    \"\"\"\n",
    "    parameters, realizations = X.shape\n",
    "    projection = not linear and parameters < realizations\n",
    "    if(projection):\n",
    "        print(\"Using projection matrix\")\n",
    "    m = D.shape[0]\n",
    "    W = np.zeros((realizations, realizations))\n",
    "    Xi = X.copy()\n",
    "    I = np.identity(realizations)\n",
    "    centering_matrix = (\n",
    "        I - \n",
    "        np.ones((realizations,realizations))/realizations\n",
    "    )/np.sqrt(realizations-1)\n",
    "    E = D @ centering_matrix\n",
    "    for i in range(iterations):\n",
    "        gXi = np.array([g(parvec) for parvec in Xi.T]).reshape(realizations,m).T\n",
    "        Y = gXi @ centering_matrix\n",
    "        if projection:\n",
    "            A = Xi @ centering_matrix ## NB: Using Xi not X\n",
    "            projection_matrix = np.linalg.pinv(A) @ A\n",
    "            Y = Y @ projection_matrix\n",
    "        Ohmega = I + W @ centering_matrix\n",
    "        S = np.linalg.solve(Ohmega.T, Y.T).T\n",
    "        H = S @ W + D - gXi\n",
    "        W = W - step_size * (\n",
    "            W - S.T @\n",
    "            np.linalg.inv(S@S.T + E@E.T) @\n",
    "            H)\n",
    "        Xi = X @ (I + W/np.sqrt(realizations-1))\n",
    "        #print(np.mean(Xi, axis=1))\n",
    "    return Xi"
   ]
  },
  {
   "cell_type": "markdown",
   "id": "de7c6b9b",
   "metadata": {},
   "source": [
    "# Example 5.1: Scalar Case With Large Ensemble Size"
   ]
  },
  {
   "cell_type": "markdown",
   "id": "8ebc1298",
   "metadata": {},
   "source": [
    "We first implement the deterministic non-linear forward model $y=g(x)=x_1+\\beta x_2^3$, $\\beta=0.2$, from example 5.1 in Evensen 2019."
   ]
  },
  {
   "cell_type": "code",
   "execution_count": 151,
   "id": "2f69289f",
   "metadata": {},
   "outputs": [],
   "source": [
    "def g(x: npt.NDArray[np.double]) -> float:\n",
    "    # x is a scalar\n",
    "    x1 = x[0]\n",
    "    return x1 + 0.2*x1**3"
   ]
  },
  {
   "cell_type": "markdown",
   "id": "86261ad8",
   "metadata": {},
   "source": [
    "We then create the input to the experiment\n",
    "\n",
    "- The realizations from the prior $\\bf{X}$\n",
    "- The perturbed observations $\\bf{D}$"
   ]
  },
  {
   "cell_type": "code",
   "execution_count": 152,
   "id": "aedf9060",
   "metadata": {},
   "outputs": [],
   "source": [
    "# Generate data\n",
    "rng = np.random.default_rng(12345)\n",
    "realizations = 1000\n",
    "# sample x\n",
    "x1 = -1.0\n",
    "x1_sd = 1.0\n",
    "x = np.array([x1])\n",
    "bias = 1\n",
    "# Define prior\n",
    "X = np.array([\n",
    "    np.random.normal(x[0]+bias, x1_sd, size=(1,realizations))#, \n",
    "    #np.random.normal(x2-bias, x2_sd, size=(1,realizations))\n",
    "]).reshape(1,realizations)\n",
    "\n",
    "# Define observations with very little uncertainty\n",
    "d_sd = 1.0\n",
    "D = np.random.normal(g(x), d_sd, size=(1,realizations))"
   ]
  },
  {
   "cell_type": "markdown",
   "id": "c8d3c059",
   "metadata": {},
   "source": [
    "To get a feel for our prior belief, we draw a histogram of the prior of $\\bf{x}$ and calculate some statistics."
   ]
  },
  {
   "cell_type": "code",
   "execution_count": 153,
   "id": "a51c6edf",
   "metadata": {},
   "outputs": [
    {
     "data": {
      "image/png": "[encoded data removed]",
      "text/plain": [
       "<Figure size 720x288 with 1 Axes>"
      ]
     },
     "metadata": {
      "needs_background": "light"
     },
     "output_type": "display_data"
    },
    {
     "name": "stdout",
     "output_type": "stream",
     "text": [
      "[-0.00049325]\n",
      "[0.97322073]\n",
      "[-1.23160099]\n"
     ]
    }
   ],
   "source": [
    "plot1 = plt.figure(1)\n",
    "plt.subplot(1,1,1)\n",
    "plt.hist(X[0,])\n",
    "plt.axvline(x=x1)\n",
    "#plt.subplot(1,2,2)\n",
    "#plt.hist(X[1,])\n",
    "plt.show()\n",
    "\n",
    "print(np.mean(X, axis=1))\n",
    "print(np.std(X, axis=1))\n",
    "print(np.mean(D, axis=1))"
   ]
  },
  {
   "cell_type": "markdown",
   "id": "5128512b",
   "metadata": {},
   "source": [
    "## Update\n",
    "We then use `subspace_ies` to update our prior."
   ]
  },
  {
   "cell_type": "code",
   "execution_count": 154,
   "id": "a4a0c14a",
   "metadata": {},
   "outputs": [
    {
     "name": "stdout",
     "output_type": "stream",
     "text": [
      "Using projection matrix\n",
      "[-0.00049325]\n",
      "[0.97322073]\n",
      "[-0.60736625]\n",
      "[0.59431371]\n"
     ]
    }
   ],
   "source": [
    "Xi = subspace_ies(X, D, g, False, 0.5, 20)\n",
    "print(np.mean(X, axis=1))\n",
    "print(np.std(X, axis=1))\n",
    "print(np.mean(Xi, axis=1))\n",
    "print(np.std(Xi, axis=1))"
   ]
  },
  {
   "cell_type": "code",
   "execution_count": 155,
   "id": "ada64dfe",
   "metadata": {},
   "outputs": [
    {
     "data": {
      "image/png": "[encoded data removed]",
      "text/plain": [
       "<Figure size 720x288 with 1 Axes>"
      ]
     },
     "metadata": {
      "needs_background": "light"
     },
     "output_type": "display_data"
    }
   ],
   "source": [
    "plot2 = plt.figure(2)\n",
    "plt.subplot(1,1,1)\n",
    "plt.hist(X[0,], alpha=0.5, label=\"prior\")\n",
    "plt.hist(Xi[0,], alpha=0.5, label=\"posterior\")\n",
    "plt.axvline(x=x1)\n",
    "plt.legend(loc=\"upper right\")\n",
    "plt.show()"
   ]
  },
  {
   "cell_type": "markdown",
   "id": "2ef00862",
   "metadata": {},
   "source": [
    "## Inspection of projection\n",
    "\n",
    "Since the model is non-linear and parameter size is much smaller than ensemble size, the projection at Equation 28 is used, referring to the numerical solution of $S_i$ in Section 2.5. We inspect how this may affect the result, by directly inspecting the projection, but also calculating the update seemingly as if `g` was linear."
   ]
  },
  {
   "cell_type": "code",
   "execution_count": 156,
   "id": "dee9ba8e",
   "metadata": {},
   "outputs": [],
   "source": [
    "centering_matrix = (\n",
    "    np.identity(realizations) - \n",
    "    np.ones((realizations,realizations))/realizations\n",
    ")/np.sqrt(realizations-1)\n",
    "gXi = np.array([g(parvec) for parvec in X.T]).reshape(1,realizations)\n",
    "Y = gXi @ centering_matrix\n",
    "A = X @ centering_matrix ## NB: Using Xi not X\n",
    "projection_matrix = np.linalg.pinv(A) @ A\n",
    "sjekk = Y @ projection_matrix"
   ]
  },
  {
   "cell_type": "code",
   "execution_count": 157,
   "id": "3b391b13",
   "metadata": {},
   "outputs": [
    {
     "data": {
      "image/png": "[encoded data removed]",
      "text/plain": [
       "<Figure size 720x288 with 2 Axes>"
      ]
     },
     "metadata": {
      "needs_background": "light"
     },
     "output_type": "display_data"
    }
   ],
   "source": [
    "plot3 = plt.figure(3)\n",
    "plt.subplot(1,2,1)\n",
    "plt.hist(sjekk[0,], alpha=0.5, label=\"Projected Y\")\n",
    "plt.hist(Y[0,], alpha=0.5, label=\"Y\")\n",
    "plt.legend(loc=\"upper right\")\n",
    "plt.subplot(1,2,2)\n",
    "plt.hist(sjekk[0,]-Y[0,], label=\"Y - Projected Y\")\n",
    "plt.legend(loc=\"upper left\")\n",
    "plt.show()"
   ]
  },
  {
   "cell_type": "code",
   "execution_count": 158,
   "id": "64c4cb59",
   "metadata": {},
   "outputs": [
    {
     "name": "stdout",
     "output_type": "stream",
     "text": [
      "[-0.00049325]\n",
      "[0.97322073]\n",
      "[-0.60736625]\n",
      "[0.59431371]\n",
      "[-0.61626354]\n",
      "[0.59303905]\n"
     ]
    }
   ],
   "source": [
    "Xi2 = subspace_ies(X, D, g, True, 0.1, 100)\n",
    "print(np.mean(X, axis=1))\n",
    "print(np.std(X, axis=1))\n",
    "print(np.mean(Xi, axis=1))\n",
    "print(np.std(Xi, axis=1))\n",
    "print(np.mean(Xi2, axis=1))\n",
    "print(np.std(Xi2, axis=1))"
   ]
  },
  {
   "cell_type": "code",
   "execution_count": 159,
   "id": "97cc879b",
   "metadata": {},
   "outputs": [
    {
     "data": {
      "image/png": "[encoded data removed]",
      "text/plain": [
       "<Figure size 720x288 with 1 Axes>"
      ]
     },
     "metadata": {
      "needs_background": "light"
     },
     "output_type": "display_data"
    }
   ],
   "source": [
    "plot4 = plt.figure(3)\n",
    "#plt.hist(X[0,], alpha=0.5, label=\"prior\")\n",
    "plt.hist(Xi[0,], alpha=0.5, label=\"posterior with projection\")\n",
    "plt.hist(Xi2[0,], alpha=0.5, label=\"posterior without projection\")\n",
    "#plt.axvline(x=x1)\n",
    "plt.legend(loc=\"upper right\")\n",
    "plt.show()"
   ]
  },
  {
   "cell_type": "code",
   "execution_count": 160,
   "id": "0979eb9a",
   "metadata": {},
   "outputs": [
    {
     "data": {
      "image/png": "[encoded data removed]",
      "text/plain": [
       "<Figure size 720x288 with 1 Axes>"
      ]
     },
     "metadata": {
      "needs_background": "light"
     },
     "output_type": "display_data"
    }
   ],
   "source": [
    "plot5 = plt.figure(5)\n",
    "plt.scatter(Xi[0,],Xi2[0,])\n",
    "plt.show()"
   ]
  },
  {
   "cell_type": "markdown",
   "id": "036de6f6",
   "metadata": {},
   "source": [
    "# Example 5.2: Verification on ERT Poly Case"
   ]
  },
  {
   "cell_type": "markdown",
   "id": "e01ccc56",
   "metadata": {},
   "source": [
    "The model is a 2'nd degree polynomial.\n",
    "Note that it is written in terms of coefficients $\\bf{x}$\n",
    "\n",
    "$$\n",
    "y = g(x;z) = x_1z^2 + x_2z + x_3.\n",
    "$$\n"
   ]
  },
  {
   "cell_type": "markdown",
   "id": "8a79dcfa",
   "metadata": {},
   "source": [
    "### Forward model definition"
   ]
  },
  {
   "cell_type": "code",
   "execution_count": 188,
   "id": "fabdeeb0",
   "metadata": {},
   "outputs": [],
   "source": [
    "def poly(x, z):\n",
    "    a, b, c = x[0], x[1], x[2]\n",
    "    return a*z**2 + b*z + c"
   ]
  },
  {
   "cell_type": "markdown",
   "id": "f1b3d3b6",
   "metadata": {},
   "source": [
    "### Generate observations\n",
    "\n",
    "We generate observations at `z=[0,2,4,6,8].T`, thus `m=5`."
   ]
  },
  {
   "cell_type": "code",
   "execution_count": 189,
   "id": "7288edbf",
   "metadata": {},
   "outputs": [],
   "source": [
    "a_t = 0.5\n",
    "b_t = 1.0\n",
    "c_t = 3.0\n",
    "x = np.array([a_t, b_t, c_t])\n",
    "n = x.shape[0]\n",
    "z_observations = [0, 2, 4, 6, 8]\n",
    "observations = [\n",
    "    (\n",
    "        poly(x, z) + rng.normal(loc=0, scale=0.2 * poly(x, z)),\n",
    "        0.2 * poly(x, z),\n",
    "        z,\n",
    "    )\n",
    "    for z in z_observations\n",
    "]\n",
    "d = pd.DataFrame(observations, columns=[\"value\", \"sd\", \"z\"])\n",
    "d = d.set_index(\"z\")\n",
    "m = d.shape[0]"
   ]
  },
  {
   "cell_type": "markdown",
   "id": "9d62895e",
   "metadata": {},
   "source": [
    "### Generate prior"
   ]
  },
  {
   "cell_type": "code",
   "execution_count": 190,
   "id": "de2731e5",
   "metadata": {},
   "outputs": [
    {
     "data": {
      "image/png": "[encoded data removed]",
      "text/plain": [
       "<Figure size 720x288 with 3 Axes>"
      ]
     },
     "metadata": {
      "needs_background": "light"
     },
     "output_type": "display_data"
    }
   ],
   "source": [
    "# Generate data\n",
    "rng = np.random.default_rng(12345)\n",
    "N = 1000\n",
    "# sample x\n",
    "x_sd = np.array([1.0, 1.0, 1.0])\n",
    "bias = 1\n",
    "X = np.array(\n",
    "    [np.random.normal(xi+bias, xi_sd, size=(1,N)) for xi, xi_sd in zip(x, x_sd)]\n",
    ").reshape(n, N)\n",
    "\n",
    "plot6 = plt.figure(6)\n",
    "for i in range(n):\n",
    "    plt.subplot(1,n,i+1)\n",
    "    plt.hist(X[i,])\n",
    "plt.show()"
   ]
  },
  {
   "cell_type": "markdown",
   "id": "8bb4eb04",
   "metadata": {},
   "source": [
    "### Perturbed observations"
   ]
  },
  {
   "cell_type": "code",
   "execution_count": 191,
   "id": "3748c642",
   "metadata": {},
   "outputs": [
    {
     "data": {
      "image/png": "[encoded data removed]",
      "text/plain": [
       "<Figure size 720x288 with 5 Axes>"
      ]
     },
     "metadata": {
      "needs_background": "light"
     },
     "output_type": "display_data"
    }
   ],
   "source": [
    "Cdd = np.diag(d.sd.values**2)\n",
    "E = rng.multivariate_normal(mean=np.zeros(m), cov=Cdd, size=N).T\n",
    "#E = E - E.mean(axis=1, keepdims=True)\n",
    "D = np.ones((m, N)) * d.value.values.reshape(-1, 1) + E\n",
    "\n",
    "plot7 = plt.figure(7)\n",
    "for i in range(m):\n",
    "    plt.subplot(1,m,i+1)\n",
    "    plt.hist(D[i,])\n",
    "plt.show()"
   ]
  },
  {
   "cell_type": "markdown",
   "id": "7e4986a9",
   "metadata": {},
   "source": [
    "## Update\n",
    "We then use `subspace_ies` to update our prior.\n",
    "We need to let our forward model `poly` be a function only of parameters `x` and not `z` values.\n",
    "Define `g: R^n -> R^m` evaluated over the `m` `z`-values"
   ]
  },
  {
   "cell_type": "code",
   "execution_count": 192,
   "id": "fcd6dea0",
   "metadata": {},
   "outputs": [],
   "source": [
    "g = lambda x: [poly(x, zi) for zi in z_observations]"
   ]
  },
  {
   "cell_type": "code",
   "execution_count": 193,
   "id": "4f1d84a8",
   "metadata": {},
   "outputs": [
    {
     "name": "stdout",
     "output_type": "stream",
     "text": [
      "Using projection matrix\n",
      "[1.52363378 2.02032178 3.99334929]\n",
      "[0.99200219 1.03173267 1.00147183]\n",
      "[0.42164785 1.90438195 3.02086605]\n",
      "[0.16053473 0.71652433 0.50839569]\n"
     ]
    }
   ],
   "source": [
    "Xi = subspace_ies(X, D, g, False, 0.3, 30)\n",
    "print(np.mean(X, axis=1))\n",
    "print(np.std(X, axis=1))\n",
    "print(np.mean(Xi, axis=1))\n",
    "print(np.std(Xi, axis=1))"
   ]
  },
  {
   "cell_type": "code",
   "execution_count": 194,
   "id": "9e558539",
   "metadata": {},
   "outputs": [
    {
     "data": {
      "image/png": "[encoded data removed]",
      "text/plain": [
       "<Figure size 720x288 with 3 Axes>"
      ]
     },
     "metadata": {
      "needs_background": "light"
     },
     "output_type": "display_data"
    }
   ],
   "source": [
    "posterior_plot = plt.figure()\n",
    "for i in range(n):\n",
    "    plt.subplot(1,n,i+1)\n",
    "    plt.hist(X[0,], alpha=0.5, label=\"prior\")\n",
    "    plt.hist(Xi[i,], alpha=0.5, label=\"posterior\")\n",
    "    plt.axvline(x=x[i])\n",
    "    plt.legend(loc=\"upper right\")\n",
    "plt.show()"
   ]
  },
  {
   "cell_type": "markdown",
   "id": "3c08b6c5",
   "metadata": {},
   "source": [
    "# Example 3: Highly Non-Linear Oscilator"
   ]
  },
  {
   "cell_type": "markdown",
   "id": "04402d47",
   "metadata": {},
   "source": [
    "### Forward model definition\n",
    "\n",
    "Base on example here:  https://github.com/dafeda/iterative_ensemble_smoother/blob/oscillator/docs/source/Oscillator.py"
   ]
  },
  {
   "cell_type": "markdown",
   "id": "bf795233",
   "metadata": {},
   "source": [
    "###   Generate observations"
   ]
  },
  {
   "cell_type": "markdown",
   "id": "70b13453",
   "metadata": {},
   "source": [
    "### Generate prior"
   ]
  },
  {
   "cell_type": "markdown",
   "id": "d8930e22",
   "metadata": {},
   "source": [
    "### Perturb observations"
   ]
  },
  {
   "cell_type": "markdown",
   "id": "b40d49b9",
   "metadata": {},
   "source": [
    "### Update"
   ]
  },
  {
   "cell_type": "code",
   "execution_count": null,
   "id": "c6c9ca5c",
   "metadata": {},
   "outputs": [],
   "source": []
  }
 ],
 "metadata": {
  "kernelspec": {
   "display_name": "Python 3 (ipykernel)",
   "language": "python",
   "name": "python3"
  },
  "language_info": {
   "codemirror_mode": {
    "name": "ipython",
    "version": 3
   },
   "file_extension": ".py",
   "mimetype": "text/x-python",
   "name": "python",
   "nbconvert_exporter": "python",
   "pygments_lexer": "ipython3",
   "version": "3.8.5"
  }
 },
 "nbformat": 4,
 "nbformat_minor": 5
}
